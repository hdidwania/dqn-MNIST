{
 "cells": [
  {
   "cell_type": "markdown",
   "metadata": {
    "colab_type": "text",
    "id": "rluPgvOPavkf"
   },
   "source": [
    "## Current Status:\n",
    "Still in progress. Also trying some simpler problems similar to this side by side to get better insight. Will probably try WGAN Loss and A RNN based policy model as suggested in SPIRAL paper\n",
    "\n",
    "## Goal:\n",
    "To train a DQN to draw an MNIST digit on a blank canvas. <br>\n",
    "As someone who has worked on GANs a lot, it struct to me that GANs generate images in one-shot, as opposed to humans, who draw in a sequential manner. Hence I try to use RL in order to experiment if DQN can generate/draw an MNIST digit by taking a sequence of steps on a blank canvas.\n",
    "\n",
    "\n",
    "## References:\n",
    "- https://pytorch.org/tutorials/intermediate/reinforcement_q_learning.html\n",
    "- https://github.com/pytorch/examples/blob/master/mnist/main.py\n",
    "- SPIRAL Paper"
   ]
  },
  {
   "cell_type": "code",
   "execution_count": 0,
   "metadata": {
    "colab": {},
    "colab_type": "code",
    "id": "o60vCN5Yavkm"
   },
   "outputs": [],
   "source": [
    "import numpy as np\n",
    "import matplotlib.pyplot as plt\n",
    "\n",
    "import gym\n",
    "from gym import spaces\n",
    "\n",
    "import torch\n",
    "from torch import nn, optim\n",
    "import torch.nn.functional as F\n",
    "from torchvision import datasets, transforms\n",
    "\n",
    "import os\n",
    "import random\n",
    "import math\n",
    "from collections import namedtuple\n",
    "from itertools import count"
   ]
  },
  {
   "cell_type": "code",
   "execution_count": 0,
   "metadata": {
    "colab": {},
    "colab_type": "code",
    "id": "gsmvqkZK4rC-"
   },
   "outputs": [],
   "source": [
    "# GAN Parameters\n",
    "\n",
    "GAN_BATCH_SIZE = 1024\n",
    "GAN_LR = 0.00001\n",
    "\n",
    "# DQN Parameters\n",
    "\n",
    "DQN_BATCH_SIZE = 128\n",
    "GAMMA = 0.99\n",
    "EPS_START = 1.0\n",
    "EPS_END = 0.05\n",
    "EPS_DECAY = 0.001\n",
    "TARGET_UPDATE = 10\n",
    "DQN_LR = 0.001\n",
    "\n",
    "# General Parameters\n",
    "\n",
    "nb_epochs = 10\n",
    "DIGIT = 1\n",
    "\n",
    "device = torch.device(\"cuda\" if torch.cuda.is_available() else \"cpu\")"
   ]
  },
  {
   "cell_type": "code",
   "execution_count": 0,
   "metadata": {
    "colab": {},
    "colab_type": "code",
    "id": "XmEZar1SavlS"
   },
   "outputs": [],
   "source": [
    "Transition = namedtuple('Transition', ('state', 'action', 'next_state', 'reward'))\n",
    "\n",
    "class ReplayMemory():\n",
    "    def __init__(self, capacity):\n",
    "        self.capacity = capacity\n",
    "        self.memory = list()\n",
    "        self.position = 0\n",
    "        \n",
    "    def push(self, *args):\n",
    "        if len(self.memory) < self.capacity:\n",
    "            self.memory.append(None)\n",
    "        self.memory[self.position] = Transition(*args)\n",
    "        self.position = (self.position + 1) % self.capacity\n",
    "        \n",
    "    def sample(self, batch_size):\n",
    "        return random.sample(self.memory, batch_size)\n",
    "    \n",
    "    def __len__(self):\n",
    "        return len(self.memory)"
   ]
  },
  {
   "cell_type": "code",
   "execution_count": 68,
   "metadata": {
    "colab": {
     "base_uri": "https://localhost:8080/",
     "height": 86
    },
    "colab_type": "code",
    "id": "Z3AedZaU4rDM",
    "outputId": "d90aadbd-e673-4da1-a6c7-06324434c47f"
   },
   "outputs": [
    {
     "name": "stderr",
     "output_type": "stream",
     "text": [
      "/usr/local/lib/python3.6/dist-packages/torchvision/datasets/mnist.py:45: UserWarning: train_labels has been renamed targets\n",
      "  warnings.warn(\"train_labels has been renamed targets\")\n",
      "/usr/local/lib/python3.6/dist-packages/torchvision/datasets/mnist.py:55: UserWarning: train_data has been renamed data\n",
      "  warnings.warn(\"train_data has been renamed data\")\n"
     ]
    }
   ],
   "source": [
    "os.makedirs(\"data/\", exist_ok=True)\n",
    "dataset = datasets.MNIST(root=\"data/MNIST/\", train=True, download=True, transform=transforms.ToTensor())\n",
    "\n",
    "idx = (dataset.train_labels == DIGIT)\n",
    "dataset.targets = dataset.train_labels[idx]\n",
    "dataset.data = dataset.train_data[idx]\n",
    "dataloader = torch.utils.data.DataLoader(dataset, batch_size=GAN_BATCH_SIZE, shuffle=True)"
   ]
  },
  {
   "cell_type": "code",
   "execution_count": 0,
   "metadata": {
    "colab": {},
    "colab_type": "code",
    "id": "rfbtsq4Bavk4"
   },
   "outputs": [],
   "source": [
    "class Discriminator(nn.Module):\n",
    "    def __init__(self):\n",
    "        super(Discriminator, self).__init__()\n",
    "        self.conv1 = nn.Conv2d(1, 32, 3, 1)\n",
    "        self.conv2 = nn.Conv2d(32, 64, 3, 1)\n",
    "        self.dropout1 = nn.Dropout2d(0.25)\n",
    "        self.dropout2 = nn.Dropout2d(0.5)\n",
    "        self.dropout3 = nn.Dropout2d(0.5)\n",
    "        self.fc1 = nn.Linear(9216, 128)\n",
    "        self.fc2 = nn.Linear(128, 1)\n",
    "\n",
    "    def forward(self, x):\n",
    "        x = self.dropout1(F.relu(self.conv1(x)))\n",
    "        x = self.dropout1(F.max_pool2d(self.conv2(x), 2))\n",
    "        # x = self.dropout1(x)\n",
    "        x = torch.flatten(x, 1)\n",
    "        x = self.dropout3(F.relu(self.fc1(x)))\n",
    "        # x = self.dropout2(x)\n",
    "        validity = torch.sigmoid(self.fc2(x))\n",
    "        return validity"
   ]
  },
  {
   "cell_type": "code",
   "execution_count": 0,
   "metadata": {
    "colab": {},
    "colab_type": "code",
    "id": "dhVkV9Ez4rDY"
   },
   "outputs": [],
   "source": [
    "def get_dis_result(dis_in, dis_model):\n",
    "    return dis_model(dis_in)"
   ]
  },
  {
   "cell_type": "code",
   "execution_count": 0,
   "metadata": {
    "colab": {},
    "colab_type": "code",
    "id": "G6mgEh4MavlA"
   },
   "outputs": [],
   "source": [
    "class CanvasEnv(gym.Env):\n",
    "    def __init__(self):\n",
    "        super(CanvasEnv, self).__init__()\n",
    "        self.action_space = spaces.Discrete(6)\n",
    "        self.observation_space = spaces.Box(low=0, high=1, shape=(28, 28), dtype=int)\n",
    "        \n",
    "        self.canvas = np.zeros((28, 28), dtype=int)\n",
    "        self.position_on_canvas = np.zeros((28, 28), dtype=int)\n",
    "        self.pen_down = False\n",
    "        \n",
    "        self.action_map = {\n",
    "            0: \"left\",\n",
    "            1: \"up\",\n",
    "            2: \"right\",\n",
    "            3: \"bottom\",\n",
    "            4: \"switch\",\n",
    "            5: \"stop\"\n",
    "        }\n",
    "        \n",
    "        self.device = torch.device(\"cuda\" if torch.cuda.is_available() else \"cpu\")\n",
    "        \n",
    "    def step(self, action, reward_model):\n",
    "        done = False\n",
    "        beyond_limit = False\n",
    "        \n",
    "        self.position_on_canvas[self.x, self.y] = 0\n",
    "        \n",
    "        if self.action_map[action] == \"left\":\n",
    "            if self.y == 0:\n",
    "                beyond_limit = True\n",
    "            self.y = max(0, self.y-1)\n",
    "        elif self.action_map[action] == \"right\":\n",
    "            if self.y == 27:\n",
    "                beyond_limit = True\n",
    "            self.y = min(27, self.y+1)\n",
    "        elif self.action_map[action] == \"up\":\n",
    "            if self.x == 0:\n",
    "                beyond_limit = True\n",
    "            self.x = max(0, self.x-1)\n",
    "        elif self.action_map[action] == \"down\":\n",
    "            if self.x == 27:\n",
    "                beyond_limit = True\n",
    "            self.x = min(27, self.x+1)\n",
    "        elif self.action_map[action] == \"switch\":\n",
    "            self.pen_down = not self.pen_down\n",
    "        elif self.action_map[action] == \"stop\":\n",
    "            done = True\n",
    "            \n",
    "        self.position_on_canvas[self.x, self.y] = 1\n",
    "        if self.pen_down:\n",
    "            self.canvas[self.x, self.y] = 1\n",
    "        \n",
    "        if done:\n",
    "          reward_input = torch.from_numpy(self.canvas).view(1, 1, 28, 28).float().to(self.device)\n",
    "          reward_output = get_dis_result(reward_input, reward_model)   \n",
    "          reward = reward_output.cpu().detach().numpy()\n",
    "        else:\n",
    "          reward = torch.FloatTensor([[0]])\n",
    "\n",
    "        # reward_input = torch.from_numpy(self.canvas).view(1, 1, 28, 28).float().to(self.device)\n",
    "        # reward_output = get_dis_result(reward_input, reward_model)   \n",
    "        # reward = reward_output.cpu().detach().numpy()\n",
    "        # print(reward.shape)\n",
    "        \n",
    "        return self.as_tensor(np.concatenate([self.position_on_canvas, self.canvas])), reward, done\n",
    "    \n",
    "    def reset(self):\n",
    "        self.canvas *= 0\n",
    "        self.position_on_canvas *= 0\n",
    "        self.x, self.y = random.randint(0, 27), random.randint(0, 27)\n",
    "        self.pen_down = False\n",
    "        self.position_on_canvas[self.x, self.y] = 1\n",
    "        return self.as_tensor(np.concatenate([self.position_on_canvas, self.canvas]))\n",
    "    \n",
    "    def render(self):\n",
    "        f, axarr = plt.subplots(1,2)\n",
    "        axarr[0].imshow(self.position_on_canvas)\n",
    "        axarr[1].imshow(self.canvas)\n",
    "        plt.show()\n",
    "        \n",
    "    def as_tensor(self, array):\n",
    "        array = np.reshape(array, [1, 2, 28, 28])\n",
    "        return torch.from_numpy(array).float().to(self.device)"
   ]
  },
  {
   "cell_type": "code",
   "execution_count": 0,
   "metadata": {
    "colab": {},
    "colab_type": "code",
    "id": "ArdWmIx1avla"
   },
   "outputs": [],
   "source": [
    "# class DQN(nn.Module):\n",
    "    def __init__(self, nb_actions):\n",
    "        super(DQN, self).__init__()\n",
    "        self.conv1 = nn.Conv2d(2, 16, 3, 1)\n",
    "        self.conv2 = nn.Conv2d(16, 32, 3, 1)\n",
    "        self.conv3 = nn.Conv2d(32, 64, 3, 1)\n",
    "        self.conv4 = nn.Conv2d(64, 128, 3, 1)\n",
    "        self.fc1 = nn.Linear(128*10*10, 4096)\n",
    "        self.fc2 = nn.Linear(4096, 2048)\n",
    "        self.fc3 = nn.Linear(2048, 1024)\n",
    "        self.fc4 = nn.Linear(1024, nb_actions)\n",
    "        \n",
    "    def forward(self, x):\n",
    "        x = F.relu(self.conv1(x))\n",
    "        x = F.relu(self.conv2(x))\n",
    "        x = F.relu(self.conv3(x))\n",
    "        x = F.relu(self.conv4(x))\n",
    "        x = F.max_pool2d(x, 2)\n",
    "        x = torch.flatten(x, 1)\n",
    "        x = F.relu(self.fc1(x))\n",
    "        x = F.relu(self.fc2(x))\n",
    "        x = F.relu(self.fc3(x))\n",
    "        x = self.fc4(x)\n",
    "        return x"
   ]
  },
  {
   "cell_type": "code",
   "execution_count": 0,
   "metadata": {
    "colab": {},
    "colab_type": "code",
    "id": "p5C8VIiu4rDu"
   },
   "outputs": [],
   "source": [
    "class Generator():\n",
    "    def __init__(self, env):\n",
    "        self.env = env\n",
    "        self.nb_actions = env.action_space.n\n",
    "        \n",
    "        self.device = torch.device(\"cuda\" if torch.cuda.is_available() else \"cpu\")\n",
    "        \n",
    "        self.policy_net = DQN(self.nb_actions).to(self.device)\n",
    "        self.target_net = DQN(self.nb_actions).to(self.device)\n",
    "        self.target_net.load_state_dict(self.policy_net.state_dict())\n",
    "        self.target_net.eval()\n",
    "        \n",
    "        self.DQN_optimizer = optim.Adam(self.policy_net.parameters(), DQN_LR)\n",
    "        \n",
    "        self.memory = ReplayMemory(10000)\n",
    "        self.num_episode = 10\n",
    "        self.eps = EPS_START\n",
    "        self.eps_threshold = EPS_END\n",
    "        \n",
    "        self.episode_durations = list()\n",
    "        \n",
    "    def select_action(self, state, greedy=False):\n",
    "        sample = random.random()\n",
    "        if sample > self.eps or greedy:\n",
    "            with torch.no_grad():\n",
    "                return self.policy_net(state).max(1)[1]\n",
    "        else:\n",
    "            return torch.tensor([random.randrange(self.nb_actions)], device=device, dtype=torch.long)\n",
    "        \n",
    "    def get_samples(self, number, reward_model, greedy=False):\n",
    "        samples = list()\n",
    "        for _ in range(number):\n",
    "            done = False\n",
    "            state = self.env.reset()\n",
    "            while not done:\n",
    "                action = int(self.select_action(state, greedy))\n",
    "                state, reward, done = self.env.step(action, reward_model)\n",
    "            samples.append(state.cpu().detach().numpy())\n",
    "        return np.squeeze(np.array(samples))\n",
    "            \n",
    "\n",
    "#     def plot_durations(self):\n",
    "#         plt.figure(2)\n",
    "#         plt.clf()\n",
    "#         durations_t = torch.tensor(episode_durations, dtype=torch.float)\n",
    "#         plt.title('Training...')\n",
    "#         plt.xlabel('Eposide')\n",
    "#         plt.ylabel('Duration')\n",
    "#         plt.plot(durations_t.numpy())\n",
    "#         if len(durations_t) >= 100:\n",
    "#             means = durations_t.unfold(0, 100, 1).mean(1).view(-1)\n",
    "#             means = torch.cat((torch.zeros(99), means))\n",
    "#             plt.plot(means.numpy())\n",
    "#         plt.pause(0.001)\n",
    "        \n",
    "    \n",
    "    def optimize_model(self):\n",
    "        if len(self.memory) < DQN_BATCH_SIZE:\n",
    "            return\n",
    "        transitions = self.memory.sample(DQN_BATCH_SIZE)\n",
    "        batch = Transition(*zip(*transitions))\n",
    "\n",
    "        non_final_mask = torch.tensor(tuple(map(lambda s: s is not None,\n",
    "                                    batch.next_state)), device=device, dtype=torch.bool)\n",
    "        non_final_next_states = torch.cat([s for s in batch.next_state if s is not None])\n",
    "\n",
    "        state_batch = torch.cat(batch.state)\n",
    "        action_batch = torch.cat(batch.action)\n",
    "        reward_batch = torch.cat(batch.reward)\n",
    "\n",
    "        state_action_values = self.policy_net(state_batch).gather(1, action_batch.view(-1, 1))\n",
    "\n",
    "#         next_state_values = torch.zeros(DQN_BATCH_SIZE, device=device).double()\n",
    "        next_state_values = torch.zeros(DQN_BATCH_SIZE, device=device)\n",
    "        next_state_values[non_final_mask] = self.target_net(non_final_next_states).max(1)[0].detach()\n",
    "        expected_state_action_values = (next_state_values * GAMMA) + reward_batch\n",
    "\n",
    "        loss = F.smooth_l1_loss(state_action_values, expected_state_action_values.unsqueeze(1))\n",
    "\n",
    "        # Optimize the model\n",
    "        self.DQN_optimizer.zero_grad()\n",
    "        loss.backward()\n",
    "#         for param in self.policy_net.parameters():\n",
    "#             param.grad.data.clamp_(-1, 1)\n",
    "        self.DQN_optimizer.step()\n",
    "    \n",
    "    def training_step(self, reward_model):\n",
    "        generated_samples = []\n",
    "        for i_episode in range(1, self.num_episode+1):\n",
    "            print(\"\\rRunning Episode {}/{}, Epsilon = {}\".format(i_episode, self.num_episode, self.eps), end=\"\")\n",
    "            state = self.env.reset()\n",
    "            \n",
    "            for t in count():\n",
    "                action = self.select_action(state)\n",
    "                next_state, reward, done = env.step(action.item(), reward_model)\n",
    "                reward = torch.tensor(reward, device=self.device)\n",
    "                if done:\n",
    "                    next_state = None\n",
    "                    \n",
    "                self.memory.push(state, action, next_state, reward)\n",
    "                state = next_state\n",
    "                self.optimize_model()\n",
    "                \n",
    "                if done:\n",
    "                    self.episode_durations.append(t+1)\n",
    "                    # self.plot_durations()\n",
    "                    # self.env.render()\n",
    "                    break\n",
    "                    \n",
    "            if i_episode % TARGET_UPDATE == 0:\n",
    "                self.target_net.load_state_dict(self.policy_net.state_dict())\n",
    "            if i_episode % 10 == 0:\n",
    "                self.eps = max(self.eps - EPS_DECAY, EPS_END)\n",
    "                \n",
    "        env.render()\n",
    "#         env.close()\n",
    "#         plt.ioff()\n",
    "#         plt.show()"
   ]
  },
  {
   "cell_type": "code",
   "execution_count": 0,
   "metadata": {
    "colab": {},
    "colab_type": "code",
    "id": "TPxJRLvn4rD1"
   },
   "outputs": [],
   "source": [
    "dis = Discriminator()\n",
    "if torch.cuda.is_available():\n",
    "    dis.cuda()"
   ]
  },
  {
   "cell_type": "code",
   "execution_count": 75,
   "metadata": {
    "colab": {
     "base_uri": "https://localhost:8080/",
     "height": 201
    },
    "colab_type": "code",
    "id": "wTRl8wRuavln",
    "outputId": "32483792-44b6-477c-fd44-8475269d3803"
   },
   "outputs": [
    {
     "data": {
      "image/png": "[encoded data removed]",
      "text/plain": [
       "<Figure size 432x288 with 2 Axes>"
      ]
     },
     "metadata": {
      "tags": []
     },
     "output_type": "display_data"
    }
   ],
   "source": [
    "env = CanvasEnv()\n",
    "env.reset()\n",
    "env.render()"
   ]
  },
  {
   "cell_type": "code",
   "execution_count": 0,
   "metadata": {
    "colab": {},
    "colab_type": "code",
    "id": "jyemcU7P4rEA"
   },
   "outputs": [],
   "source": [
    "gen = Generator(env)"
   ]
  },
  {
   "cell_type": "code",
   "execution_count": 0,
   "metadata": {
    "colab": {},
    "colab_type": "code",
    "id": "XPB_wTct4rEF"
   },
   "outputs": [],
   "source": [
    "adversarial_loss = torch.nn.BCELoss()\n",
    "if torch.cuda.is_available():\n",
    "    adversarial_loss.cuda()"
   ]
  },
  {
   "cell_type": "code",
   "execution_count": 0,
   "metadata": {
    "colab": {},
    "colab_type": "code",
    "id": "ChkLkqWl4rEI"
   },
   "outputs": [],
   "source": [
    "dis_optimizer = optim.Adam(dis.parameters(), lr=GAN_LR)"
   ]
  },
  {
   "cell_type": "code",
   "execution_count": 0,
   "metadata": {
    "colab": {},
    "colab_type": "code",
    "id": "jPmnlKn34rEN"
   },
   "outputs": [],
   "source": [
    "Tensor = torch.cuda.FloatTensor if torch.cuda.is_available() else torch.FloatTensor"
   ]
  },
  {
   "cell_type": "code",
   "execution_count": 80,
   "metadata": {
    "colab": {
     "base_uri": "https://localhost:8080/",
     "height": 1000
    },
    "colab_type": "code",
    "id": "AvjCqttG4rES",
    "outputId": "82d46e2f-69d2-4180-9b87-c6d42a17726a"
   },
   "outputs": [
    {
     "name": "stdout",
     "output_type": "stream",
     "text": [
      "Epoch: 1/10 Batch: 1/7\n",
      "\r",
      "Running Episode 1/10, Epsilon = 1.0\r",
      "Running Episode 2/10, Epsilon = 1.0\r",
      "Running Episode 3/10, Epsilon = 1.0\r",
      "Running Episode 4/10, Epsilon = 1.0\r",
      "Running Episode 5/10, Epsilon = 1.0\r",
      "Running Episode 6/10, Epsilon = 1.0\r",
      "Running Episode 7/10, Epsilon = 1.0\r",
      "Running Episode 8/10, Epsilon = 1.0\r",
      "Running Episode 9/10, Epsilon = 1.0\r",
      "Running Episode 10/10, Epsilon = 1.0"
     ]
    },
    {
     "name": "stderr",
     "output_type": "stream",
     "text": [
      "/usr/local/lib/python3.6/dist-packages/ipykernel_launcher.py:96: UserWarning: To copy construct from a tensor, it is recommended to use sourceTensor.clone().detach() or sourceTensor.clone().detach().requires_grad_(True), rather than torch.tensor(sourceTensor).\n"
     ]
    },
    {
     "data": {
      "image/png": "[encoded data removed]",
      "text/plain": [
       "<Figure size 432x288 with 2 Axes>"
      ]
     },
     "metadata": {
      "tags": []
     },
     "output_type": "display_data"
    },
    {
     "name": "stdout",
     "output_type": "stream",
     "text": [
      "Discriminator [Total: 0.6962 Real: 0.7290 Generated: 0.6634] Generator 0.7245\n",
      "Epoch: 1/10 Batch: 2/7\n",
      "\r",
      "Running Episode 1/10, Epsilon = 0.999\r",
      "Running Episode 2/10, Epsilon = 0.999\r",
      "Running Episode 3/10, Epsilon = 0.999\r",
      "Running Episode 4/10, Epsilon = 0.999\r",
      "Running Episode 5/10, Epsilon = 0.999\r",
      "Running Episode 6/10, Epsilon = 0.999\r",
      "Running Episode 7/10, Epsilon = 0.999\r",
      "Running Episode 8/10, Epsilon = 0.999\r",
      "Running Episode 9/10, Epsilon = 0.999\r",
      "Running Episode 10/10, Epsilon = 0.999"
     ]
    },
    {
     "data": {
      "image/png": "[encoded data removed]",
      "text/plain": [
       "<Figure size 432x288 with 2 Axes>"
      ]
     },
     "metadata": {
      "tags": []
     },
     "output_type": "display_data"
    },
    {
     "name": "stdout",
     "output_type": "stream",
     "text": [
      "Discriminator [Total: 0.6940 Real: 0.7247 Generated: 0.6633] Generator 0.7235\n",
      "Epoch: 1/10 Batch: 3/7\n",
      "\r",
      "Running Episode 1/10, Epsilon = 0.998\r",
      "Running Episode 2/10, Epsilon = 0.998\r",
      "Running Episode 3/10, Epsilon = 0.998"
     ]
    },
    {
     "name": "stderr",
     "output_type": "stream",
     "text": [
      "/usr/local/lib/python3.6/dist-packages/ipykernel_launcher.py:78: UserWarning: Using a target size (torch.Size([128, 1, 128])) that is different to the input size (torch.Size([128, 1])). This will likely lead to incorrect results due to broadcasting. Please ensure they have the same size.\n"
     ]
    },
    {
     "name": "stdout",
     "output_type": "stream",
     "text": [
      "Running Episode 10/10, Epsilon = 0.998"
     ]
    },
    {
     "data": {
      "image/png": "[encoded data removed]",
      "text/plain": [
       "<Figure size 432x288 with 2 Axes>"
      ]
     },
     "metadata": {
      "tags": []
     },
     "output_type": "display_data"
    },
    {
     "name": "stdout",
     "output_type": "stream",
     "text": [
      "Discriminator [Total: 0.6911 Real: 0.7193 Generated: 0.6628] Generator 0.7240\n",
      "Epoch: 1/10 Batch: 4/7\n",
      "Running Episode 10/10, Epsilon = 0.997"
     ]
    },
    {
     "data": {
      "image/png": "[encoded data removed]",
      "text/plain": [
       "<Figure size 432x288 with 2 Axes>"
      ]
     },
     "metadata": {
      "tags": []
     },
     "output_type": "display_data"
    },
    {
     "name": "stdout",
     "output_type": "stream",
     "text": [
      "Discriminator [Total: 0.6884 Real: 0.7142 Generated: 0.6626] Generator 0.7247\n",
      "Epoch: 1/10 Batch: 5/7\n",
      "Running Episode 10/10, Epsilon = 0.996"
     ]
    },
    {
     "data": {
      "image/png": "[encoded data removed]",
      "text/plain": [
       "<Figure size 432x288 with 2 Axes>"
      ]
     },
     "metadata": {
      "tags": []
     },
     "output_type": "display_data"
    },
    {
     "name": "stdout",
     "output_type": "stream",
     "text": [
      "Discriminator [Total: 0.6859 Real: 0.7091 Generated: 0.6626] Generator 0.7251\n",
      "Epoch: 1/10 Batch: 6/7\n",
      "Running Episode 10/10, Epsilon = 0.995"
     ]
    },
    {
     "data": {
      "image/png": "[encoded data removed]",
      "text/plain": [
       "<Figure size 432x288 with 2 Axes>"
      ]
     },
     "metadata": {
      "tags": []
     },
     "output_type": "display_data"
    },
    {
     "name": "stdout",
     "output_type": "stream",
     "text": [
      "Discriminator [Total: 0.6833 Real: 0.7045 Generated: 0.6622] Generator 0.7242\n",
      "Epoch: 1/10 Batch: 7/7\n",
      "Running Episode 10/10, Epsilon = 0.994"
     ]
    },
    {
     "data": {
      "image/png": "[encoded data removed]",
      "text/plain": [
       "<Figure size 432x288 with 2 Axes>"
      ]
     },
     "metadata": {
      "tags": []
     },
     "output_type": "display_data"
    },
    {
     "name": "stdout",
     "output_type": "stream",
     "text": [
      "Discriminator [Total: 0.6806 Real: 0.6994 Generated: 0.6618] Generator 0.7254\n",
      "Epoch: 2/10 Batch: 1/7\n",
      "Running Episode 10/10, Epsilon = 0.993"
     ]
    },
    {
     "data": {
      "image/png": "[encoded data removed]",
      "text/plain": [
       "<Figure size 432x288 with 2 Axes>"
      ]
     },
     "metadata": {
      "tags": []
     },
     "output_type": "display_data"
    },
    {
     "name": "stdout",
     "output_type": "stream",
     "text": [
      "Discriminator [Total: 0.6788 Real: 0.6952 Generated: 0.6625] Generator 0.7260\n",
      "Epoch: 2/10 Batch: 2/7\n",
      "Running Episode 10/10, Epsilon = 0.992"
     ]
    },
    {
     "data": {
      "image/png": "[encoded data removed]",
      "text/plain": [
       "<Figure size 432x288 with 2 Axes>"
      ]
     },
     "metadata": {
      "tags": []
     },
     "output_type": "display_data"
    },
    {
     "name": "stdout",
     "output_type": "stream",
     "text": [
      "Discriminator [Total: 0.6759 Real: 0.6905 Generated: 0.6614] Generator 0.7269\n",
      "Epoch: 2/10 Batch: 3/7\n",
      "Running Episode 10/10, Epsilon = 0.991"
     ]
    },
    {
     "data": {
      "image/png": "[encoded data removed]",
      "text/plain": [
       "<Figure size 432x288 with 2 Axes>"
      ]
     },
     "metadata": {
      "tags": []
     },
     "output_type": "display_data"
    },
    {
     "name": "stdout",
     "output_type": "stream",
     "text": [
      "Discriminator [Total: 0.6727 Real: 0.6856 Generated: 0.6598] Generator 0.7285\n",
      "Epoch: 2/10 Batch: 4/7\n",
      "Running Episode 10/10, Epsilon = 0.99"
     ]
    },
    {
     "data": {
      "image/png": "[encoded data removed]",
      "text/plain": [
       "<Figure size 432x288 with 2 Axes>"
      ]
     },
     "metadata": {
      "tags": []
     },
     "output_type": "display_data"
    },
    {
     "name": "stdout",
     "output_type": "stream",
     "text": [
      "Discriminator [Total: 0.6712 Real: 0.6828 Generated: 0.6595] Generator 0.7287\n",
      "Epoch: 2/10 Batch: 5/7\n",
      "Running Episode 10/10, Epsilon = 0.989"
     ]
    },
    {
     "data": {
      "image/png": "[encoded data removed]",
      "text/plain": [
       "<Figure size 432x288 with 2 Axes>"
      ]
     },
     "metadata": {
      "tags": []
     },
     "output_type": "display_data"
    },
    {
     "name": "stdout",
     "output_type": "stream",
     "text": [
      "Discriminator [Total: 0.6680 Real: 0.6782 Generated: 0.6579] Generator 0.7306\n",
      "Epoch: 2/10 Batch: 6/7\n",
      "Running Episode 10/10, Epsilon = 0.988"
     ]
    },
    {
     "data": {
      "image/png": "[encoded data removed]",
      "text/plain": [
       "<Figure size 432x288 with 2 Axes>"
      ]
     },
     "metadata": {
      "tags": []
     },
     "output_type": "display_data"
    },
    {
     "name": "stdout",
     "output_type": "stream",
     "text": [
      "Discriminator [Total: 0.6656 Real: 0.6746 Generated: 0.6566] Generator 0.7318\n",
      "Epoch: 2/10 Batch: 7/7\n",
      "Running Episode 10/10, Epsilon = 0.987"
     ]
    },
    {
     "data": {
      "image/png": "[encoded data removed]",
      "text/plain": [
       "<Figure size 432x288 with 2 Axes>"
      ]
     },
     "metadata": {
      "tags": []
     },
     "output_type": "display_data"
    },
    {
     "name": "stdout",
     "output_type": "stream",
     "text": [
      "Discriminator [Total: 0.6626 Real: 0.6704 Generated: 0.6547] Generator 0.7343\n",
      "Epoch: 3/10 Batch: 1/7\n",
      "Running Episode 10/10, Epsilon = 0.986"
     ]
    },
    {
     "data": {
      "image/png": "[encoded data removed]",
      "text/plain": [
       "<Figure size 432x288 with 2 Axes>"
      ]
     },
     "metadata": {
      "tags": []
     },
     "output_type": "display_data"
    },
    {
     "name": "stdout",
     "output_type": "stream",
     "text": [
      "Discriminator [Total: 0.6598 Real: 0.6661 Generated: 0.6534] Generator 0.7356\n",
      "Epoch: 3/10 Batch: 2/7\n",
      "Running Episode 10/10, Epsilon = 0.985"
     ]
    },
    {
     "data": {
      "image/png": "[encoded data removed]",
      "text/plain": [
       "<Figure size 432x288 with 2 Axes>"
      ]
     },
     "metadata": {
      "tags": []
     },
     "output_type": "display_data"
    },
    {
     "name": "stdout",
     "output_type": "stream",
     "text": [
      "Discriminator [Total: 0.6582 Real: 0.6647 Generated: 0.6518] Generator 0.7354\n",
      "Epoch: 3/10 Batch: 3/7\n",
      "Running Episode 10/10, Epsilon = 0.984"
     ]
    },
    {
     "data": {
      "image/png": "[encoded data removed]",
      "text/plain": [
       "<Figure size 432x288 with 2 Axes>"
      ]
     },
     "metadata": {
      "tags": []
     },
     "output_type": "display_data"
    },
    {
     "name": "stdout",
     "output_type": "stream",
     "text": [
      "Discriminator [Total: 0.6549 Real: 0.6601 Generated: 0.6496] Generator 0.7382\n",
      "Epoch: 3/10 Batch: 4/7\n",
      "Running Episode 10/10, Epsilon = 0.983"
     ]
    },
    {
     "data": {
      "image/png": "[encoded data removed]",
      "text/plain": [
       "<Figure size 432x288 with 2 Axes>"
      ]
     },
     "metadata": {
      "tags": []
     },
     "output_type": "display_data"
    },
    {
     "name": "stdout",
     "output_type": "stream",
     "text": [
      "Discriminator [Total: 0.6532 Real: 0.6580 Generated: 0.6485] Generator 0.7401\n",
      "Epoch: 3/10 Batch: 5/7\n",
      "Running Episode 10/10, Epsilon = 0.982"
     ]
    },
    {
     "data": {
      "image/png": "[encoded data removed]",
      "text/plain": [
       "<Figure size 432x288 with 2 Axes>"
      ]
     },
     "metadata": {
      "tags": []
     },
     "output_type": "display_data"
    },
    {
     "name": "stdout",
     "output_type": "stream",
     "text": [
      "Discriminator [Total: 0.6500 Real: 0.6516 Generated: 0.6484] Generator 0.7413\n",
      "Epoch: 3/10 Batch: 6/7\n",
      "Running Episode 10/10, Epsilon = 0.981"
     ]
    },
    {
     "data": {
      "image/png": "[encoded data removed]",
      "text/plain": [
       "<Figure size 432x288 with 2 Axes>"
      ]
     },
     "metadata": {
      "tags": []
     },
     "output_type": "display_data"
    },
    {
     "name": "stdout",
     "output_type": "stream",
     "text": [
      "Discriminator [Total: 0.6473 Real: 0.6490 Generated: 0.6457] Generator 0.7445\n",
      "Epoch: 3/10 Batch: 7/7\n",
      "Running Episode 10/10, Epsilon = 0.98"
     ]
    },
    {
     "data": {
      "image/png": "[encoded data removed]",
      "text/plain": [
       "<Figure size 432x288 with 2 Axes>"
      ]
     },
     "metadata": {
      "tags": []
     },
     "output_type": "display_data"
    },
    {
     "name": "stdout",
     "output_type": "stream",
     "text": [
      "Discriminator [Total: 0.6454 Real: 0.6457 Generated: 0.6452] Generator 0.7461\n",
      "Epoch: 4/10 Batch: 1/7\n",
      "Running Episode 10/10, Epsilon = 0.979"
     ]
    },
    {
     "data": {
      "image/png": "[encoded data removed]",
      "text/plain": [
       "<Figure size 432x288 with 2 Axes>"
      ]
     },
     "metadata": {
      "tags": []
     },
     "output_type": "display_data"
    },
    {
     "name": "stdout",
     "output_type": "stream",
     "text": [
      "Discriminator [Total: 0.6415 Real: 0.6426 Generated: 0.6405] Generator 0.7492\n",
      "Epoch: 4/10 Batch: 2/7\n",
      "Running Episode 10/10, Epsilon = 0.978"
     ]
    },
    {
     "data": {
      "image/png": "[encoded data removed]",
      "text/plain": [
       "<Figure size 432x288 with 2 Axes>"
      ]
     },
     "metadata": {
      "tags": []
     },
     "output_type": "display_data"
    },
    {
     "name": "stdout",
     "output_type": "stream",
     "text": [
      "Discriminator [Total: 0.6398 Real: 0.6398 Generated: 0.6399] Generator 0.7515\n",
      "Epoch: 4/10 Batch: 3/7\n",
      "Running Episode 10/10, Epsilon = 0.977"
     ]
    },
    {
     "data": {
      "image/png": "[encoded data removed]",
      "text/plain": [
       "<Figure size 432x288 with 2 Axes>"
      ]
     },
     "metadata": {
      "tags": []
     },
     "output_type": "display_data"
    },
    {
     "name": "stdout",
     "output_type": "stream",
     "text": [
      "Discriminator [Total: 0.6354 Real: 0.6364 Generated: 0.6345] Generator 0.7527\n",
      "Epoch: 4/10 Batch: 4/7\n",
      "Running Episode 10/10, Epsilon = 0.976"
     ]
    },
    {
     "data": {
      "image/png": "[encoded data removed]",
      "text/plain": [
       "<Figure size 432x288 with 2 Axes>"
      ]
     },
     "metadata": {
      "tags": []
     },
     "output_type": "display_data"
    },
    {
     "name": "stdout",
     "output_type": "stream",
     "text": [
      "Discriminator [Total: 0.6326 Real: 0.6320 Generated: 0.6332] Generator 0.7584\n",
      "Epoch: 4/10 Batch: 5/7\n",
      "Running Episode 10/10, Epsilon = 0.975"
     ]
    },
    {
     "data": {
      "image/png": "[encoded data removed]",
      "text/plain": [
       "<Figure size 432x288 with 2 Axes>"
      ]
     },
     "metadata": {
      "tags": []
     },
     "output_type": "display_data"
    },
    {
     "name": "stdout",
     "output_type": "stream",
     "text": [
      "Discriminator [Total: 0.6313 Real: 0.6320 Generated: 0.6307] Generator 0.7621\n",
      "Epoch: 4/10 Batch: 6/7\n",
      "Running Episode 10/10, Epsilon = 0.974"
     ]
    },
    {
     "data": {
      "image/png": "[encoded data removed]",
      "text/plain": [
       "<Figure size 432x288 with 2 Axes>"
      ]
     },
     "metadata": {
      "tags": []
     },
     "output_type": "display_data"
    },
    {
     "name": "stdout",
     "output_type": "stream",
     "text": [
      "Discriminator [Total: 0.6272 Real: 0.6264 Generated: 0.6281] Generator 0.7626\n",
      "Epoch: 4/10 Batch: 7/7\n",
      "Running Episode 10/10, Epsilon = 0.973"
     ]
    },
    {
     "data": {
      "image/png": "[encoded data removed]",
      "text/plain": [
       "<Figure size 432x288 with 2 Axes>"
      ]
     },
     "metadata": {
      "tags": []
     },
     "output_type": "display_data"
    },
    {
     "name": "stdout",
     "output_type": "stream",
     "text": [
      "Discriminator [Total: 0.6227 Real: 0.6230 Generated: 0.6225] Generator 0.7678\n",
      "Epoch: 5/10 Batch: 1/7\n",
      "Running Episode 10/10, Epsilon = 0.972"
     ]
    },
    {
     "data": {
      "image/png": "[encoded data removed]",
      "text/plain": [
       "<Figure size 432x288 with 2 Axes>"
      ]
     },
     "metadata": {
      "tags": []
     },
     "output_type": "display_data"
    },
    {
     "name": "stdout",
     "output_type": "stream",
     "text": [
      "Discriminator [Total: 0.6236 Real: 0.6241 Generated: 0.6231] Generator 0.7694\n",
      "Epoch: 5/10 Batch: 2/7\n",
      "Running Episode 10/10, Epsilon = 0.971"
     ]
    },
    {
     "data": {
      "image/png": "[encoded data removed]",
      "text/plain": [
       "<Figure size 432x288 with 2 Axes>"
      ]
     },
     "metadata": {
      "tags": []
     },
     "output_type": "display_data"
    },
    {
     "name": "stdout",
     "output_type": "stream",
     "text": [
      "Discriminator [Total: 0.6198 Real: 0.6193 Generated: 0.6202] Generator 0.7746\n",
      "Epoch: 5/10 Batch: 3/7\n",
      "Running Episode 10/10, Epsilon = 0.97"
     ]
    },
    {
     "data": {
      "image/png": "[encoded data removed]",
      "text/plain": [
       "<Figure size 432x288 with 2 Axes>"
      ]
     },
     "metadata": {
      "tags": []
     },
     "output_type": "display_data"
    },
    {
     "name": "stdout",
     "output_type": "stream",
     "text": [
      "Discriminator [Total: 0.6177 Real: 0.6188 Generated: 0.6165] Generator 0.7797\n",
      "Epoch: 5/10 Batch: 4/7\n",
      "Running Episode 10/10, Epsilon = 0.969"
     ]
    },
    {
     "data": {
      "image/png": "[encoded data removed]",
      "text/plain": [
       "<Figure size 432x288 with 2 Axes>"
      ]
     },
     "metadata": {
      "tags": []
     },
     "output_type": "display_data"
    },
    {
     "name": "stdout",
     "output_type": "stream",
     "text": [
      "Discriminator [Total: 0.6127 Real: 0.6128 Generated: 0.6127] Generator 0.7829\n",
      "Epoch: 5/10 Batch: 5/7\n",
      "Running Episode 10/10, Epsilon = 0.968"
     ]
    },
    {
     "data": {
      "image/png": "[encoded data removed]",
      "text/plain": [
       "<Figure size 432x288 with 2 Axes>"
      ]
     },
     "metadata": {
      "tags": []
     },
     "output_type": "display_data"
    },
    {
     "name": "stdout",
     "output_type": "stream",
     "text": [
      "Discriminator [Total: 0.6107 Real: 0.6124 Generated: 0.6091] Generator 0.7849\n",
      "Epoch: 5/10 Batch: 6/7\n",
      "Running Episode 10/10, Epsilon = 0.967"
     ]
    },
    {
     "data": {
      "image/png": "[encoded data removed]",
      "text/plain": [
       "<Figure size 432x288 with 2 Axes>"
      ]
     },
     "metadata": {
      "tags": []
     },
     "output_type": "display_data"
    },
    {
     "name": "stdout",
     "output_type": "stream",
     "text": [
      "Discriminator [Total: 0.6089 Real: 0.6099 Generated: 0.6078] Generator 0.7878\n",
      "Epoch: 5/10 Batch: 7/7\n",
      "Running Episode 10/10, Epsilon = 0.966"
     ]
    },
    {
     "data": {
      "image/png": "[encoded data removed]",
      "text/plain": [
       "<Figure size 432x288 with 2 Axes>"
      ]
     },
     "metadata": {
      "tags": []
     },
     "output_type": "display_data"
    },
    {
     "name": "stdout",
     "output_type": "stream",
     "text": [
      "Discriminator [Total: 0.6069 Real: 0.6091 Generated: 0.6047] Generator 0.7908\n",
      "Epoch: 6/10 Batch: 1/7\n",
      "Running Episode 10/10, Epsilon = 0.965"
     ]
    },
    {
     "data": {
      "image/png": "[encoded data removed]",
      "text/plain": [
       "<Figure size 432x288 with 2 Axes>"
      ]
     },
     "metadata": {
      "tags": []
     },
     "output_type": "display_data"
    },
    {
     "name": "stdout",
     "output_type": "stream",
     "text": [
      "Discriminator [Total: 0.6009 Real: 0.6027 Generated: 0.5992] Generator 0.7931\n",
      "Epoch: 6/10 Batch: 2/7\n",
      "Running Episode 10/10, Epsilon = 0.964"
     ]
    },
    {
     "data": {
      "image/png": "[encoded data removed]",
      "text/plain": [
       "<Figure size 432x288 with 2 Axes>"
      ]
     },
     "metadata": {
      "tags": []
     },
     "output_type": "display_data"
    },
    {
     "name": "stdout",
     "output_type": "stream",
     "text": [
      "Discriminator [Total: 0.6007 Real: 0.6015 Generated: 0.5999] Generator 0.7999\n",
      "Epoch: 6/10 Batch: 3/7\n",
      "Running Episode 10/10, Epsilon = 0.963"
     ]
    },
    {
     "data": {
      "image/png": "[encoded data removed]",
      "text/plain": [
       "<Figure size 432x288 with 2 Axes>"
      ]
     },
     "metadata": {
      "tags": []
     },
     "output_type": "display_data"
    },
    {
     "name": "stdout",
     "output_type": "stream",
     "text": [
      "Discriminator [Total: 0.5984 Real: 0.6007 Generated: 0.5962] Generator 0.8026\n",
      "Epoch: 6/10 Batch: 4/7\n",
      "Running Episode 10/10, Epsilon = 0.962"
     ]
    },
    {
     "data": {
      "image/png": "[encoded data removed]",
      "text/plain": [
       "<Figure size 432x288 with 2 Axes>"
      ]
     },
     "metadata": {
      "tags": []
     },
     "output_type": "display_data"
    },
    {
     "name": "stdout",
     "output_type": "stream",
     "text": [
      "Discriminator [Total: 0.5936 Real: 0.5922 Generated: 0.5949] Generator 0.8091\n",
      "Epoch: 6/10 Batch: 5/7\n",
      "Running Episode 10/10, Epsilon = 0.961"
     ]
    },
    {
     "data": {
      "image/png": "[encoded data removed]",
      "text/plain": [
       "<Figure size 432x288 with 2 Axes>"
      ]
     },
     "metadata": {
      "tags": []
     },
     "output_type": "display_data"
    },
    {
     "name": "stdout",
     "output_type": "stream",
     "text": [
      "Discriminator [Total: 0.5911 Real: 0.5906 Generated: 0.5916] Generator 0.8075\n",
      "Epoch: 6/10 Batch: 6/7\n",
      "Running Episode 10/10, Epsilon = 0.96"
     ]
    },
    {
     "data": {
      "image/png": "[encoded data removed]",
      "text/plain": [
       "<Figure size 432x288 with 2 Axes>"
      ]
     },
     "metadata": {
      "tags": []
     },
     "output_type": "display_data"
    },
    {
     "name": "stdout",
     "output_type": "stream",
     "text": [
      "Discriminator [Total: 0.5891 Real: 0.5894 Generated: 0.5889] Generator 0.8132\n",
      "Epoch: 6/10 Batch: 7/7\n",
      "Running Episode 10/10, Epsilon = 0.959"
     ]
    },
    {
     "data": {
      "image/png": "[encoded data removed]",
      "text/plain": [
       "<Figure size 432x288 with 2 Axes>"
      ]
     },
     "metadata": {
      "tags": []
     },
     "output_type": "display_data"
    },
    {
     "name": "stdout",
     "output_type": "stream",
     "text": [
      "Discriminator [Total: 0.5865 Real: 0.5867 Generated: 0.5864] Generator 0.8156\n",
      "Epoch: 7/10 Batch: 1/7\n",
      "Running Episode 10/10, Epsilon = 0.958"
     ]
    },
    {
     "data": {
      "image/png": "[encoded data removed]",
      "text/plain": [
       "<Figure size 432x288 with 2 Axes>"
      ]
     },
     "metadata": {
      "tags": []
     },
     "output_type": "display_data"
    },
    {
     "name": "stdout",
     "output_type": "stream",
     "text": [
      "Discriminator [Total: 0.5825 Real: 0.5811 Generated: 0.5839] Generator 0.8190\n",
      "Epoch: 7/10 Batch: 2/7\n",
      "Running Episode 10/10, Epsilon = 0.957"
     ]
    },
    {
     "data": {
      "image/png": "[encoded data removed]",
      "text/plain": [
       "<Figure size 432x288 with 2 Axes>"
      ]
     },
     "metadata": {
      "tags": []
     },
     "output_type": "display_data"
    },
    {
     "name": "stdout",
     "output_type": "stream",
     "text": [
      "Discriminator [Total: 0.5803 Real: 0.5798 Generated: 0.5807] Generator 0.8253\n",
      "Epoch: 7/10 Batch: 3/7\n",
      "Running Episode 10/10, Epsilon = 0.956"
     ]
    },
    {
     "data": {
      "image/png": "[encoded data removed]",
      "text/plain": [
       "<Figure size 432x288 with 2 Axes>"
      ]
     },
     "metadata": {
      "tags": []
     },
     "output_type": "display_data"
    },
    {
     "name": "stdout",
     "output_type": "stream",
     "text": [
      "Discriminator [Total: 0.5771 Real: 0.5740 Generated: 0.5801] Generator 0.8290\n",
      "Epoch: 7/10 Batch: 4/7\n",
      "Running Episode 10/10, Epsilon = 0.955"
     ]
    },
    {
     "data": {
      "image/png": "[encoded data removed]",
      "text/plain": [
       "<Figure size 432x288 with 2 Axes>"
      ]
     },
     "metadata": {
      "tags": []
     },
     "output_type": "display_data"
    },
    {
     "name": "stdout",
     "output_type": "stream",
     "text": [
      "Discriminator [Total: 0.5751 Real: 0.5750 Generated: 0.5753] Generator 0.8319\n",
      "Epoch: 7/10 Batch: 5/7\n",
      "Running Episode 10/10, Epsilon = 0.954"
     ]
    },
    {
     "data": {
      "image/png": "[encoded data removed]",
      "text/plain": [
       "<Figure size 432x288 with 2 Axes>"
      ]
     },
     "metadata": {
      "tags": []
     },
     "output_type": "display_data"
    },
    {
     "name": "stdout",
     "output_type": "stream",
     "text": [
      "Discriminator [Total: 0.5702 Real: 0.5700 Generated: 0.5704] Generator 0.8316\n",
      "Epoch: 7/10 Batch: 6/7\n",
      "Running Episode 10/10, Epsilon = 0.953"
     ]
    },
    {
     "data": {
      "image/png": "[encoded data removed]",
      "text/plain": [
       "<Figure size 432x288 with 2 Axes>"
      ]
     },
     "metadata": {
      "tags": []
     },
     "output_type": "display_data"
    },
    {
     "name": "stdout",
     "output_type": "stream",
     "text": [
      "Discriminator [Total: 0.5666 Real: 0.5668 Generated: 0.5663] Generator 0.8382\n",
      "Epoch: 7/10 Batch: 7/7\n",
      "Running Episode 10/10, Epsilon = 0.952"
     ]
    },
    {
     "data": {
      "image/png": "[encoded data removed]",
      "text/plain": [
       "<Figure size 432x288 with 2 Axes>"
      ]
     },
     "metadata": {
      "tags": []
     },
     "output_type": "display_data"
    },
    {
     "name": "stdout",
     "output_type": "stream",
     "text": [
      "Discriminator [Total: 0.5638 Real: 0.5628 Generated: 0.5647] Generator 0.8392\n",
      "Epoch: 8/10 Batch: 1/7\n",
      "Running Episode 10/10, Epsilon = 0.951"
     ]
    },
    {
     "data": {
      "image/png": "[encoded data removed]",
      "text/plain": [
       "<Figure size 432x288 with 2 Axes>"
      ]
     },
     "metadata": {
      "tags": []
     },
     "output_type": "display_data"
    },
    {
     "name": "stdout",
     "output_type": "stream",
     "text": [
      "Discriminator [Total: 0.5644 Real: 0.5650 Generated: 0.5638] Generator 0.8468\n",
      "Epoch: 8/10 Batch: 2/7\n",
      "Running Episode 10/10, Epsilon = 0.95"
     ]
    },
    {
     "data": {
      "image/png": "[encoded data removed]",
      "text/plain": [
       "<Figure size 432x288 with 2 Axes>"
      ]
     },
     "metadata": {
      "tags": []
     },
     "output_type": "display_data"
    },
    {
     "name": "stdout",
     "output_type": "stream",
     "text": [
      "Discriminator [Total: 0.5593 Real: 0.5575 Generated: 0.5611] Generator 0.8467\n",
      "Epoch: 8/10 Batch: 3/7\n",
      "Running Episode 10/10, Epsilon = 0.949"
     ]
    },
    {
     "data": {
      "image/png": "[encoded data removed]",
      "text/plain": [
       "<Figure size 432x288 with 2 Axes>"
      ]
     },
     "metadata": {
      "tags": []
     },
     "output_type": "display_data"
    },
    {
     "name": "stdout",
     "output_type": "stream",
     "text": [
      "Discriminator [Total: 0.5583 Real: 0.5598 Generated: 0.5568] Generator 0.8496\n",
      "Epoch: 8/10 Batch: 4/7\n",
      "Running Episode 10/10, Epsilon = 0.948"
     ]
    },
    {
     "data": {
      "image/png": "[encoded data removed]",
      "text/plain": [
       "<Figure size 432x288 with 2 Axes>"
      ]
     },
     "metadata": {
      "tags": []
     },
     "output_type": "display_data"
    },
    {
     "name": "stdout",
     "output_type": "stream",
     "text": [
      "Discriminator [Total: 0.5509 Real: 0.5496 Generated: 0.5522] Generator 0.8605\n",
      "Epoch: 8/10 Batch: 5/7\n",
      "Running Episode 10/10, Epsilon = 0.947"
     ]
    },
    {
     "data": {
      "image/png": "[encoded data removed]",
      "text/plain": [
       "<Figure size 432x288 with 2 Axes>"
      ]
     },
     "metadata": {
      "tags": []
     },
     "output_type": "display_data"
    },
    {
     "name": "stdout",
     "output_type": "stream",
     "text": [
      "Discriminator [Total: 0.5476 Real: 0.5480 Generated: 0.5473] Generator 0.8637\n",
      "Epoch: 8/10 Batch: 6/7\n",
      "Running Episode 10/10, Epsilon = 0.946"
     ]
    },
    {
     "data": {
      "image/png": "[encoded data removed]",
      "text/plain": [
       "<Figure size 432x288 with 2 Axes>"
      ]
     },
     "metadata": {
      "tags": []
     },
     "output_type": "display_data"
    },
    {
     "name": "stdout",
     "output_type": "stream",
     "text": [
      "Discriminator [Total: 0.5479 Real: 0.5468 Generated: 0.5490] Generator 0.8688\n",
      "Epoch: 8/10 Batch: 7/7\n",
      "Running Episode 10/10, Epsilon = 0.945"
     ]
    },
    {
     "data": {
      "image/png": "[encoded data removed]",
      "text/plain": [
       "<Figure size 432x288 with 2 Axes>"
      ]
     },
     "metadata": {
      "tags": []
     },
     "output_type": "display_data"
    },
    {
     "name": "stdout",
     "output_type": "stream",
     "text": [
      "Discriminator [Total: 0.5458 Real: 0.5498 Generated: 0.5418] Generator 0.8750\n",
      "Epoch: 9/10 Batch: 1/7\n",
      "Running Episode 10/10, Epsilon = 0.944"
     ]
    },
    {
     "data": {
      "image/png": "[encoded data removed]",
      "text/plain": [
       "<Figure size 432x288 with 2 Axes>"
      ]
     },
     "metadata": {
      "tags": []
     },
     "output_type": "display_data"
    },
    {
     "name": "stdout",
     "output_type": "stream",
     "text": [
      "Discriminator [Total: 0.5404 Real: 0.5411 Generated: 0.5397] Generator 0.8778\n",
      "Epoch: 9/10 Batch: 2/7\n",
      "Running Episode 10/10, Epsilon = 0.943"
     ]
    },
    {
     "data": {
      "image/png": "[encoded data removed]",
      "text/plain": [
       "<Figure size 432x288 with 2 Axes>"
      ]
     },
     "metadata": {
      "tags": []
     },
     "output_type": "display_data"
    },
    {
     "name": "stdout",
     "output_type": "stream",
     "text": [
      "Discriminator [Total: 0.5375 Real: 0.5362 Generated: 0.5389] Generator 0.8807\n",
      "Epoch: 9/10 Batch: 3/7\n",
      "Running Episode 10/10, Epsilon = 0.942"
     ]
    },
    {
     "data": {
      "image/png": "[encoded data removed]",
      "text/plain": [
       "<Figure size 432x288 with 2 Axes>"
      ]
     },
     "metadata": {
      "tags": []
     },
     "output_type": "display_data"
    },
    {
     "name": "stdout",
     "output_type": "stream",
     "text": [
      "Discriminator [Total: 0.5344 Real: 0.5360 Generated: 0.5328] Generator 0.8912\n",
      "Epoch: 9/10 Batch: 4/7\n",
      "Running Episode 10/10, Epsilon = 0.941"
     ]
    },
    {
     "data": {
      "image/png": "[encoded data removed]",
      "text/plain": [
       "<Figure size 432x288 with 2 Axes>"
      ]
     },
     "metadata": {
      "tags": []
     },
     "output_type": "display_data"
    },
    {
     "name": "stdout",
     "output_type": "stream",
     "text": [
      "Discriminator [Total: 0.5332 Real: 0.5369 Generated: 0.5294] Generator 0.8846\n",
      "Epoch: 9/10 Batch: 5/7\n",
      "Running Episode 10/10, Epsilon = 0.94"
     ]
    },
    {
     "data": {
      "image/png": "[encoded data removed]",
      "text/plain": [
       "<Figure size 432x288 with 2 Axes>"
      ]
     },
     "metadata": {
      "tags": []
     },
     "output_type": "display_data"
    },
    {
     "name": "stdout",
     "output_type": "stream",
     "text": [
      "Discriminator [Total: 0.5302 Real: 0.5308 Generated: 0.5296] Generator 0.8969\n",
      "Epoch: 9/10 Batch: 6/7\n",
      "Running Episode 10/10, Epsilon = 0.939"
     ]
    },
    {
     "data": {
      "image/png": "[encoded data removed]",
      "text/plain": [
       "<Figure size 432x288 with 2 Axes>"
      ]
     },
     "metadata": {
      "tags": []
     },
     "output_type": "display_data"
    },
    {
     "name": "stdout",
     "output_type": "stream",
     "text": [
      "Discriminator [Total: 0.5250 Real: 0.5246 Generated: 0.5254] Generator 0.9103\n",
      "Epoch: 9/10 Batch: 7/7\n",
      "Running Episode 10/10, Epsilon = 0.938"
     ]
    },
    {
     "data": {
      "image/png": "[encoded data removed]",
      "text/plain": [
       "<Figure size 432x288 with 2 Axes>"
      ]
     },
     "metadata": {
      "tags": []
     },
     "output_type": "display_data"
    },
    {
     "name": "stdout",
     "output_type": "stream",
     "text": [
      "Discriminator [Total: 0.5244 Real: 0.5271 Generated: 0.5217] Generator 0.9001\n",
      "Epoch: 10/10 Batch: 1/7\n",
      "Running Episode 10/10, Epsilon = 0.9369999999999999"
     ]
    },
    {
     "data": {
      "image/png": "[encoded data removed]",
      "text/plain": [
       "<Figure size 432x288 with 2 Axes>"
      ]
     },
     "metadata": {
      "tags": []
     },
     "output_type": "display_data"
    },
    {
     "name": "stdout",
     "output_type": "stream",
     "text": [
      "Discriminator [Total: 0.5218 Real: 0.5205 Generated: 0.5230] Generator 0.9113\n",
      "Epoch: 10/10 Batch: 2/7\n",
      "Running Episode 10/10, Epsilon = 0.9359999999999999"
     ]
    },
    {
     "data": {
      "image/png": "[encoded data removed]",
      "text/plain": [
       "<Figure size 432x288 with 2 Axes>"
      ]
     },
     "metadata": {
      "tags": []
     },
     "output_type": "display_data"
    },
    {
     "name": "stdout",
     "output_type": "stream",
     "text": [
      "Discriminator [Total: 0.5188 Real: 0.5213 Generated: 0.5163] Generator 0.9172\n",
      "Epoch: 10/10 Batch: 3/7\n",
      "Running Episode 10/10, Epsilon = 0.9349999999999999"
     ]
    },
    {
     "data": {
      "image/png": "[encoded data removed]",
      "text/plain": [
       "<Figure size 432x288 with 2 Axes>"
      ]
     },
     "metadata": {
      "tags": []
     },
     "output_type": "display_data"
    },
    {
     "name": "stdout",
     "output_type": "stream",
     "text": [
      "Discriminator [Total: 0.5173 Real: 0.5177 Generated: 0.5169] Generator 0.9198\n",
      "Epoch: 10/10 Batch: 4/7\n",
      "Running Episode 10/10, Epsilon = 0.9339999999999999"
     ]
    },
    {
     "data": {
      "image/png": "[encoded data removed]",
      "text/plain": [
       "<Figure size 432x288 with 2 Axes>"
      ]
     },
     "metadata": {
      "tags": []
     },
     "output_type": "display_data"
    },
    {
     "name": "stdout",
     "output_type": "stream",
     "text": [
      "Discriminator [Total: 0.5114 Real: 0.5155 Generated: 0.5073] Generator 0.9276\n",
      "Epoch: 10/10 Batch: 5/7\n",
      "Running Episode 10/10, Epsilon = 0.9329999999999999"
     ]
    },
    {
     "data": {
      "image/png": "[encoded data removed]",
      "text/plain": [
       "<Figure size 432x288 with 2 Axes>"
      ]
     },
     "metadata": {
      "tags": []
     },
     "output_type": "display_data"
    },
    {
     "name": "stdout",
     "output_type": "stream",
     "text": [
      "Discriminator [Total: 0.5100 Real: 0.5120 Generated: 0.5079] Generator 0.9279\n",
      "Epoch: 10/10 Batch: 6/7\n",
      "Running Episode 10/10, Epsilon = 0.9319999999999999"
     ]
    },
    {
     "data": {
      "image/png": "[encoded data removed]",
      "text/plain": [
       "<Figure size 432x288 with 2 Axes>"
      ]
     },
     "metadata": {
      "tags": []
     },
     "output_type": "display_data"
    },
    {
     "name": "stdout",
     "output_type": "stream",
     "text": [
      "Discriminator [Total: 0.5036 Real: 0.5038 Generated: 0.5034] Generator 0.9341\n",
      "Epoch: 10/10 Batch: 7/7\n",
      "Running Episode 10/10, Epsilon = 0.9309999999999999"
     ]
    },
    {
     "data": {
      "image/png": "[encoded data removed]",
      "text/plain": [
       "<Figure size 432x288 with 2 Axes>"
      ]
     },
     "metadata": {
      "tags": []
     },
     "output_type": "display_data"
    },
    {
     "name": "stdout",
     "output_type": "stream",
     "text": [
      "Discriminator [Total: 0.5017 Real: 0.5010 Generated: 0.5023] Generator 0.9341\n"
     ]
    }
   ],
   "source": [
    "for epoch in range(1, nb_epochs+1):\n",
    "    for i, (imgs, _) in enumerate(dataloader):\n",
    "        imgs = imgs.to(device)\n",
    "        print(\"Epoch: {}/{} Batch: {}/{}\".format(epoch, nb_epochs, i+1, len(dataloader)))\n",
    "        # Adversarial ground truths\n",
    "        valid = Tensor(imgs.size(0), 1).fill_(1.0)\n",
    "        fake = Tensor(imgs.size(0), 1).fill_(0.0)\n",
    "        \n",
    "#         real_imgs = Tensor(imgs)\n",
    "        \n",
    "#         # Train Generator\n",
    "        gen.training_step(dis)\n",
    "        gen_imgs = gen.get_samples(imgs.size(0), dis)[:, 1:]\n",
    "        # print(gen_imgs.shape, fake.shape)\n",
    "\n",
    "        gen_loss = adversarial_loss(dis(Tensor(gen_imgs)), valid)\n",
    "#         # Train Discriminator\n",
    "        dis_optimizer.zero_grad()\n",
    "        \n",
    "        real_loss = adversarial_loss(dis(imgs), valid)\n",
    "        # print(Tensor(gen_imgs).shape, fake.shape)\n",
    "        fake_loss = adversarial_loss(dis(Tensor(gen_imgs)), fake)\n",
    "        d_loss = (real_loss + fake_loss) / 2\n",
    "        \n",
    "        d_loss.backward()\n",
    "        dis_optimizer.step()\n",
    "\n",
    "        print(\"Discriminator [Total: {:.4f} Real: {:.4f} Generated: {:.4f}] Generator {:.4f}\".format(d_loss, real_loss, fake_loss, gen_loss))"
   ]
  },
  {
   "cell_type": "code",
   "execution_count": 0,
   "metadata": {
    "colab": {},
    "colab_type": "code",
    "id": "TMToJpxm4rEX"
   },
   "outputs": [],
   "source": []
  },
  {
   "cell_type": "code",
   "execution_count": 0,
   "metadata": {
    "colab": {},
    "colab_type": "code",
    "id": "oPJwT0K84rEd"
   },
   "outputs": [],
   "source": []
  },
  {
   "cell_type": "code",
   "execution_count": 0,
   "metadata": {
    "colab": {},
    "colab_type": "code",
    "id": "amfNivG34rEh"
   },
   "outputs": [],
   "source": []
  },
  {
   "cell_type": "code",
   "execution_count": 0,
   "metadata": {
    "colab": {},
    "colab_type": "code",
    "id": "VOdj1dy74rEm"
   },
   "outputs": [],
   "source": []
  },
  {
   "cell_type": "code",
   "execution_count": 0,
   "metadata": {
    "colab": {},
    "colab_type": "code",
    "id": "GgXHfrqJavmh"
   },
   "outputs": [],
   "source": []
  }
 ],
 "metadata": {
  "accelerator": "GPU",
  "colab": {
   "collapsed_sections": [],
   "name": "main.ipynb",
   "provenance": []
  },
  "kernelspec": {
   "display_name": "Python 3",
   "language": "python",
   "name": "python3"
  },
  "language_info": {
   "codemirror_mode": {
    "name": "ipython",
    "version": 3
   },
   "file_extension": ".py",
   "mimetype": "text/x-python",
   "name": "python",
   "nbconvert_exporter": "python",
   "pygments_lexer": "ipython3",
   "version": "3.7.5"
  }
 },
 "nbformat": 4,
 "nbformat_minor": 1
}
